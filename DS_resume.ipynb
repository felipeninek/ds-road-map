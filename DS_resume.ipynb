{
 "cells": [
  {
   "attachments": {},
   "cell_type": "markdown",
   "id": "47e17c0c",
   "metadata": {},
   "source": [
    "# Ciência de Dados"
   ]
  },
  {
   "cell_type": "code",
   "execution_count": 2,
   "id": "f3abfcb1",
   "metadata": {},
   "outputs": [],
   "source": [
    "#links com os conteúdos\n",
    "#readme"
   ]
  },
  {
   "attachments": {},
   "cell_type": "markdown",
   "id": "85f8f013",
   "metadata": {},
   "source": [
    "## Coleta de dados"
   ]
  },
  {
   "attachments": {},
   "cell_type": "markdown",
   "id": "4423b97e",
   "metadata": {},
   "source": [
    "<p>\n",
    "\n",
    "    Os dados podem ser Estruturados\n",
    "        carregar dados de DW, csv, excel, text, xml, html, json...\n",
    "        carregar dados de banco de dados (uso de query e engine)\n",
    "\n",
    "    Os dados podem ser não estruturados\n",
    "        áudios, vídeos e documentos de texto (NLP e deep learning)\n",
    "\n",
    "    Os dados podem ser semi estruturados\n",
    "        Acesso a API\n",
    "        web scraping com bs4, selenium, scrapy e requests\n",
    "\n",
    "    Bibliotecas\n",
    "        BS4: Utilizada para acessar elementos html/xml, é utilizado com a biblioteca requests para acessar as páginas da internet\n",
    "        Pandas: carrega e salva dataframes em csv, escel, html, jason...\n",
    "        with/open: utilizado para abrir e salvar arquivos de texto formatados com delimiter ou não\n",
    "        requests: Utilizado para fazer requisiçoes de conteúdos da internet\n",
    "        sqlalchemy: Utilizado para obter dados a partir de banco de dados\n",
    "</p>"
   ]
  },
  {
   "attachments": {},
   "cell_type": "markdown",
   "id": "e7fc1bf6",
   "metadata": {},
   "source": [
    "## Pré-processamento"
   ]
  },
  {
   "attachments": {},
   "cell_type": "markdown",
   "id": "2abc13bc",
   "metadata": {},
   "source": [
    "<p>\n",
    "    \n",
    "    Integração de dados de diferentes fontes\n",
    "\n",
    "    Eliminação de atributos irrelevantes\n",
    "\n",
    "    Amostragem dos dados\n",
    "\n",
    "    Dados desbalanceaddos (classes predominantes)\n",
    "\n",
    "    Limpeza dos dados\n",
    "        - dados ruidosos (outliers)\n",
    "            * Encestamento, agrupamento e regressão (posspivel utilizar algoritmos de machine learning para tratamento de outliers) \n",
    "        - dados inconsistentes\n",
    "            * geralmente ocorrem quando há erros de escala e unidade adotada\n",
    "        - dados redundantes ou duplicados\n",
    "            * atributos redundantes podem ser eliminados, assim como registros duplicados\n",
    "        - dados incompletos ou ausentes\n",
    "            * eliminar objetos com dificuldade de inputar valores\n",
    "            * preencher com moda, mediana ou média\n",
    "            * definir um valor baseado nos outros atributos\n",
    "        - tipo e formato dos dados\n",
    "\n",
    "    Transformação\n",
    "        - Transformação (numérico/categórico) para Machine Learning\n",
    "        - Normalização\n",
    "        - Discretização\n",
    "        - Redução de dimensionalidade (PCA) \n",
    "            * Algoritmo PCA\n",
    "            * Seleção de atributos\n",
    "            * Agregação de atributos\n",
    "    \n",
    "    Feature Engeneering\n",
    "        \n",
    "</p>"
   ]
  },
  {
   "attachments": {},
   "cell_type": "markdown",
   "id": "e3dc3edf",
   "metadata": {},
   "source": [
    "## EDA"
   ]
  },
  {
   "attachments": {},
   "cell_type": "markdown",
   "id": "f698336c",
   "metadata": {},
   "source": [
    "<p>\n",
    "\n",
    "    Analise Univariada\n",
    "    \n",
    "    Analise Bivariada\n",
    "    \n",
    "    Analise Trivariada\n",
    "    \n",
    "    Analise Multivariada\n",
    "</p>"
   ]
  },
  {
   "attachments": {},
   "cell_type": "markdown",
   "id": "c88fff03",
   "metadata": {},
   "source": [
    "## Data mining"
   ]
  },
  {
   "attachments": {},
   "cell_type": "markdown",
   "id": "cb9e19ec",
   "metadata": {},
   "source": [
    "<p>\n",
    "\n",
    "    Machine Learning\n",
    "        - Bibliotecas TensorFlow e Scikit Learn \n",
    "        - Aprendizado Supervisionado (Preditivo)\n",
    "            * Regressão\n",
    "                - Regressão Linear\n",
    "                - Regressão Não Linear\n",
    "                - Regressão Logística\n",
    "                - Regressão Polinomial\n",
    "                - Regressão Multilinear\n",
    "\n",
    "            * Classificação\n",
    "                - Regressão Logística\n",
    "\n",
    "        - Aprendizado Não Supervisionado (Descritivo)\n",
    "            * Agrupamento\n",
    "            * Sumarização\n",
    "            * Associação\n",
    "        - Aprendizado por Reforço\n",
    "        - Treino e teste\n",
    "        - Avaliar Overfitting e Underfitting\n",
    "\n",
    "    Algoritmos\n",
    "        - KNN\n",
    "            * Classificação e Regressão\n",
    "            * Distância Euclidiana / Distância Hamming / Distância Manhattan / Distância Markowski\n",
    "        - SVM\n",
    "\n",
    "</p>"
   ]
  },
  {
   "attachments": {},
   "cell_type": "markdown",
   "id": "158327a1",
   "metadata": {},
   "source": [
    "## Avaliação dos modelos"
   ]
  },
  {
   "attachments": {},
   "cell_type": "markdown",
   "id": "bb9da228",
   "metadata": {},
   "source": [
    "<p>\n",
    "\n",
    "    Classificação\n",
    "        - Acurácia e Matriz de confusão\n",
    "    Regressão\n",
    "        - MAE / MAPE / MSE\n",
    "    R-fold cross-validation\n",
    "        - Validação utilizando diferentes amostras do mesmo conjunto de teste separados em treino e teste\n",
    "    Curva Roc\n",
    "        - Avaliação do modelo\n",
    "\n",
    "</p>"
   ]
  },
  {
   "attachments": {},
   "cell_type": "markdown",
   "id": "b42350d0",
   "metadata": {},
   "source": [
    "## Visualização"
   ]
  },
  {
   "attachments": {},
   "cell_type": "markdown",
   "id": "b17474c8",
   "metadata": {},
   "source": [
    "<p>\n",
    "\n",
    "    A visualizaçãos dos dados está presente nas etapas de EDA, Data Mining, Avaliação dos resultados e Deploy\n",
    "</p>"
   ]
  },
  {
   "attachments": {},
   "cell_type": "markdown",
   "id": "8436b7a2",
   "metadata": {},
   "source": [
    "## Deploy"
   ]
  },
  {
   "attachments": {},
   "cell_type": "markdown",
   "id": "1f450942",
   "metadata": {},
   "source": [
    "<p>\n",
    "\n",
    "    serializar o codigo\n",
    "    \n",
    "    usar container\n",
    "    \n",
    "    criar api\n",
    "    \n",
    "    chatbot telegram e whatsapp\n",
    "    \n",
    "    aplicacoes web para visualização, streamlit e dash + flask\n",
    "    \n",
    "    powerbi / tableau\n",
    "</p>"
   ]
  },
  {
   "attachments": {},
   "cell_type": "markdown",
   "id": "e19e3533",
   "metadata": {},
   "source": [
    "## Storytelling"
   ]
  }
 ],
 "metadata": {
  "kernelspec": {
   "display_name": "env_ds",
   "language": "python",
   "name": "python3"
  },
  "language_info": {
   "codemirror_mode": {
    "name": "ipython",
    "version": 3
   },
   "file_extension": ".py",
   "mimetype": "text/x-python",
   "name": "python",
   "nbconvert_exporter": "python",
   "pygments_lexer": "ipython3",
   "version": "3.10.8"
  },
  "vscode": {
   "interpreter": {
    "hash": "9b1c904fc8d11b9f604137630e50605c588c62fd2d312adc1cc5c0a7c8dab974"
   }
  }
 },
 "nbformat": 4,
 "nbformat_minor": 5
}
