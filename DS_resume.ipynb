{
 "cells": [
  {
   "attachments": {},
   "cell_type": "markdown",
   "id": "47e17c0c",
   "metadata": {},
   "source": [
    "# Ciência de Dados"
   ]
  },
  {
   "cell_type": "code",
   "execution_count": 2,
   "id": "f3abfcb1",
   "metadata": {},
   "outputs": [],
   "source": [
    "#links com os conteúdos\n",
    "#readme\n",
    "# esse documento descreve as etapas e como desenvolver cada etapa"
   ]
  },
  {
   "attachments": {},
   "cell_type": "markdown",
   "id": "85f8f013",
   "metadata": {},
   "source": [
    "## Coleta de dados"
   ]
  },
  {
   "attachments": {},
   "cell_type": "markdown",
   "id": "4423b97e",
   "metadata": {},
   "source": [
    "<p>\n",
    "\n",
    "    Os dados podem ser Estruturados\n",
    "        carregar dados de DW, csv, excel, text, xml, html, json...\n",
    "        carregar dados de banco de dados (uso de query e engine)\n",
    "\n",
    "    Os dados podem ser não estruturados\n",
    "        áudios, vídeos e documentos de texto (NLP e deep learning)\n",
    "\n",
    "    Os dados podem ser semi estruturados\n",
    "        Acesso a API\n",
    "        web scraping com bs4, selenium, scrapy e requests\n",
    "\n",
    "    Bibliotecas\n",
    "        BS4: Utilizada para acessar elementos html/xml, é utilizado com a biblioteca requests para acessar as páginas da internet\n",
    "        Pandas: carrega e salva dataframes em csv, escel, html, jason...\n",
    "        with/open: utilizado para abrir e salvar arquivos de texto formatados com delimiter ou não\n",
    "        requests: Utilizado para fazer requisiçoes de conteúdos da internet\n",
    "        sqlalchemy: Utilizado para obter dados a partir de banco de dados\n",
    "</p>"
   ]
  },
  {
   "attachments": {},
   "cell_type": "markdown",
   "id": "e7fc1bf6",
   "metadata": {},
   "source": [
    "## Pré-processamento"
   ]
  },
  {
   "cell_type": "markdown",
   "id": "444dbb06",
   "metadata": {},
   "source": [
    "#### Limpeza de dados"
   ]
  },
  {
   "cell_type": "raw",
   "id": "4c11cbef",
   "metadata": {},
   "source": [
    "Dados faltantes:\n",
    "    - Remover o objeto se tiver muitos dados faltantes\n",
    "    - Imputar valores impiricamente\n",
    "    - Atribuir uma constante para valores ausentes\n",
    "    - Hot-deck, imputar valores de acordo com objetos similares ou distâncias próximas\n",
    "    - Ordenar a base e utilizar valores anteriores ou posteriores\n",
    "    - Utilizar média ou moda em relação ao dataset todo\n",
    "    - Utilizar média ou moda de objetos da mesma classe\n",
    "    - Utilizar modelos de classificação/agrupamento/regressão para inputar um valor\n",
    "        \n",
    "Dados ruidosos:\n",
    "    - Encaixotamento de mesma largura:\n",
    "        Divide-se o dataset em caixas e suaviza os valores utilizando a média dessas caixas\n",
    "    - Encaixotamento de mesma frequência:\n",
    "        Dividi-se o dataset em caixas e suaviza os valores utilizando o extreme mais próximo\n",
    "    - Agrupamento:\n",
    "        Agrupar por valores de classe\n",
    "    - Aproximação:\n",
    "        Encontrar a equação da reta e utilizar valores suavizados baseados na equação\n",
    "        \n",
    "Dados inconsistentes:\n",
    "    Para tratar esse tipo de problema é necessário analisar e entender o conjunto de dados, um valor fora do domínio do atributo"
   ]
  },
  {
   "cell_type": "markdown",
   "id": "73f017e4",
   "metadata": {},
   "source": [
    "#### Integração de dados"
   ]
  },
  {
   "cell_type": "raw",
   "id": "1fb90575",
   "metadata": {},
   "source": [
    "No processo de integração de dados de bases diferentes é necessário verificar se há:\n",
    "    - Redundâncias entre objetos e atributos (idade e data de nascimento)\n",
    "    - Duplicidade entre objetos e atributos (mesmos dados em bases diferentes)\n",
    "    - Conflitos entre objetos e atributos (ex: grandezas dos atributos e valores diferentes para um mesmo objeto)"
   ]
  },
  {
   "cell_type": "markdown",
   "id": "d40009f4",
   "metadata": {},
   "source": [
    "#### Redução de dimensionalidade"
   ]
  },
  {
   "cell_type": "raw",
   "id": "f8a05b3e",
   "metadata": {},
   "source": [
    "Seleção de atributos:\n",
    "    - Eliminação de atributos repetitivos ou desnecessários\n",
    "    \n",
    "Compressão de atributos:\n",
    "    - Análise de componentes principais (PCA)\n",
    "        Identifica correlação entre os atributos e substitui\n",
    "    \n",
    "Redução nos dados:\n",
    "    - Amostragem:\n",
    "        Amostragem sem substituição\n",
    "        Amostragem com substituição\n",
    "        Amostragem sistemática\n",
    "        Amostragem estratificada\n",
    "        Amostragem por grupos\n",
    "    - Modelos de aproximação:\n",
    "        Função de aproximação\n",
    "        Agrupamento (k-means)"
   ]
  },
  {
   "cell_type": "markdown",
   "id": "f7eede52",
   "metadata": {},
   "source": [
    "#### Transformação dos dados"
   ]
  },
  {
   "cell_type": "raw",
   "id": "92477cd0",
   "metadata": {},
   "source": [
    "Padronização:\n",
    "    - Padronização de letras upper e lower:\n",
    "    - Padronização de caracteres especiais:\n",
    "    - Padronização de formatos (ex: data):\n",
    "    - Padronização de unidades e escalas:\n",
    "        \n",
    "Normalização:\n",
    "    - Max-Min: transforma os valores em um intervalo de [0,1] \n",
    "    - Score-z: normalização pela média e desvio padrão(valores max e min desconhecidos ou presença de outliers) \n",
    "    - Escalonamento decimal\n",
    "    - Normalização pelo range interquartil\n",
    "\n",
    "Transformar dados categóricos em numéricos para utilização em algoritmos de machine learning"
   ]
  },
  {
   "cell_type": "markdown",
   "id": "b9c735a6",
   "metadata": {},
   "source": [
    "#### Discretização dos dados"
   ]
  },
  {
   "cell_type": "raw",
   "id": "d50f3698",
   "metadata": {},
   "source": [
    "Transformar os valores dos atributros para dados catergóricos:\n",
    "    - Intervalos predeterminados\n",
    "    - Encaixotamento\n",
    "    - Análise de histograma\n",
    "    - Agrupamento\n",
    "    - Entropia"
   ]
  },
  {
   "attachments": {},
   "cell_type": "markdown",
   "id": "e3dc3edf",
   "metadata": {},
   "source": [
    "## Análise descritiva"
   ]
  },
  {
   "cell_type": "markdown",
   "id": "f66b944d",
   "metadata": {},
   "source": [
    "### Distribuição de frequência"
   ]
  },
  {
   "cell_type": "raw",
   "id": "0c883325",
   "metadata": {},
   "source": [
    "Classes:\n",
    "    Encontrar limite inferior e superior do conjunto de dados e dividir em classes \n",
    "\n",
    "Limite inferior:\n",
    "    Limite inferior da classe\n",
    "\n",
    "Ponto médio:\n",
    "    Ponto médio da classe\n",
    "\n",
    "Limite superior:\n",
    "    Limite superior da classe\n",
    "\n",
    "Fronteira:\n",
    "    Unidade entre uma classe e outra dividido por 2\n",
    "\n",
    "Frequência absoluta:\n",
    "    Número de frequência de valores no intervalo da classe\n",
    "\n",
    "Frequência relativa:\n",
    "    Número de frequência de valores no intervalo da classe em porcentagem em relação ao total de eventos\n",
    "\n",
    "Frequência acumulada:\n",
    "    Somatória absoluta/relativa dos dados"
   ]
  },
  {
   "cell_type": "markdown",
   "id": "3370bc78",
   "metadata": {},
   "source": [
    "### Visualização de dados"
   ]
  },
  {
   "cell_type": "raw",
   "id": "ddcc3bf7",
   "metadata": {},
   "source": [
    "Análise Univariada:\n",
    "    Histograma: Representação da frequência de classes em gráfico de barras\n",
    "    Polígonos de frequência: Representação da frequência de classes em gráfico de linhas\n",
    "    Ogiva: Representação da frequência acumulada das classes em gráfico de linhas\n",
    "    Pareto: histograma com classes ordenadas de forma decrescente de acordo com a frequencia absoluta\n",
    "    Gráfico de setores: Representação das classes e frequência relativa em gráfico de pizza\n",
    "\n",
    "Análise Bivariada:\n",
    "    Gráfico de Dispersão (Scatter Plot): Gráfico cartesiano entre duas variáveis\n",
    "\n",
    "Análise Trivariada pode ser realizada com scatter plot com o auxílio de classificação dos gráficos por classe(hue)"
   ]
  },
  {
   "cell_type": "markdown",
   "id": "807f3709",
   "metadata": {},
   "source": [
    "### Tendência central, Dispersão, Forma e Associação"
   ]
  },
  {
   "cell_type": "raw",
   "id": "b5890933",
   "metadata": {},
   "source": [
    "Tendência Central\n",
    "    Média: Somatória dos valores / 2\n",
    "    Mediana: Valor do meio do conjunto de dados\n",
    "    Ponto médio: (Limite superior - Limite inferior) / 2\n",
    "    Moda: Valor de maior frequência\n",
    "\n",
    "Dispersão\n",
    "    Amplitude: Diferença entre o maior e menor valor de uma variável\n",
    "    Desvio padrão: Variação dos dados em relação a média\n",
    "    Variância: Dispersão de um conjunto de valores\n",
    "    Coeficiente de variação: Desvio padrão relativo a média\n",
    "\n",
    "Forma\n",
    "    Skew (Assimetria): Assimetria da distribuição normal dos dados, direita - / esquerda +\n",
    "    Kurtosis (Curtose): Medida de dispersão que caracteriza pico ou achatamento da curva de distribuição normal, acahatada = negativo e alta concentração central caracterizando um pico = positivo\n",
    "\n",
    "Posição relativa\n",
    "    Quartis: Diagrama de caixa representando os quartis da variável, representação de concentração e outliers\n",
    "\n",
    "Associação\n",
    "    Análise de correlações lineares ou não-lineares entre as variáveis (correlação perfeita, correlação forte, sem correlação e correlação não-linear)\n",
    "    - Coeficiente de correlação de Pearson (paramétrico):\n",
    "    - Correlação de Spearman (não paramétrico):\n"
   ]
  },
  {
   "attachments": {},
   "cell_type": "markdown",
   "id": "c88fff03",
   "metadata": {},
   "source": [
    "## Data mining"
   ]
  },
  {
   "attachments": {},
   "cell_type": "markdown",
   "id": "cb9e19ec",
   "metadata": {},
   "source": [
    "<p>\n",
    "\n",
    "    Machine Learning\n",
    "        - Bibliotecas TensorFlow e Scikit Learn \n",
    "        - Aprendizado Supervisionado (Preditivo)\n",
    "            * Regressão\n",
    "                - Regressão Linear\n",
    "                - Regressão Não Linear\n",
    "                - Regressão Logística\n",
    "                - Regressão Polinomial\n",
    "                - Regressão Multilinear\n",
    "\n",
    "            * Classificação\n",
    "                - Regressão Logística\n",
    "\n",
    "        - Aprendizado Não Supervisionado (Descritivo)\n",
    "            * Agrupamento\n",
    "            * Sumarização\n",
    "            * Associação\n",
    "        - Aprendizado por Reforço\n",
    "        - Treino e teste\n",
    "        - Avaliar Overfitting e Underfitting\n",
    "\n",
    "    Algoritmos\n",
    "        - KNN\n",
    "            * Classificação e Regressão\n",
    "            * Distância Euclidiana / Distância Hamming / Distância Manhattan / Distância Markowski\n",
    "        - SVM\n",
    "\n",
    "</p>"
   ]
  },
  {
   "attachments": {},
   "cell_type": "markdown",
   "id": "158327a1",
   "metadata": {},
   "source": [
    "## Avaliação dos modelos"
   ]
  },
  {
   "attachments": {},
   "cell_type": "markdown",
   "id": "bb9da228",
   "metadata": {},
   "source": [
    "<p>\n",
    "\n",
    "    Classificação\n",
    "        - Acurácia e Matriz de confusão\n",
    "    Regressão\n",
    "        - MAE / MAPE / MSE\n",
    "    R-fold cross-validation\n",
    "        - Validação utilizando diferentes amostras do mesmo conjunto de teste separados em treino e teste\n",
    "    Curva Roc\n",
    "        - Avaliação do modelo\n",
    "\n",
    "</p>"
   ]
  },
  {
   "attachments": {},
   "cell_type": "markdown",
   "id": "b42350d0",
   "metadata": {},
   "source": [
    "## Visualização"
   ]
  },
  {
   "attachments": {},
   "cell_type": "markdown",
   "id": "b17474c8",
   "metadata": {},
   "source": [
    "<p>\n",
    "\n",
    "    Processo de visualização de dados:\n",
    "        Importar dados\n",
    "            - Coletar e importar dados\n",
    "        Filtrar dados\n",
    "            - Pré-processameto(limpeza, integração, redução, transformação, discretização)\n",
    "        Mapear\n",
    "            - Mapear como sera a visualização\n",
    "        Renderizar\n",
    "            - Processamento e utilização de recursos gráficos para visualização dos dados\n",
    "        Avaliar\n",
    "            - Avaliar de acordo com a finalidade do produto se a visualização é eficiente\n",
    "\n",
    "    Formatos de representação:\n",
    "        Gráficos\n",
    "        Tabelas\n",
    "        Mapas\n",
    "        Diagramas\n",
    "        Infográficos\n",
    "        Painéis\n",
    "\n",
    "\n",
    "    Objetivos de cada tipo de recurso utilizado:\n",
    "        Informar\n",
    "            - Gráfico de setores / Pictograma\n",
    "        Comparar\n",
    "            - Gráfico de setores / histograma / treemap / nuvem de bolhas (Mapa de calor ou densidade)\n",
    "        Transformação\n",
    "            - Gráfico de linha / Gráfico de área / Cronograma / Gráfico de mapa (Mapa Coroplético)\n",
    "        Organizar\n",
    "            - Lista / Fluxograma / Diagrama de Venn / Mapa mental / Diagrama de pirâmide / tabela\n",
    "        Relações\n",
    "            - Dispersão / Histograma / Séries múltiplas\n",
    "\n",
    "\n",
    "    Exemplos de visualização\n",
    "        Histograma - Distribuição de frequência (Bimodal, Multimodal, Distorcido, Simétrico, Uniforme e Outliers)\n",
    "        Gráfico de dispersão - Relacionamento entre duas variáveis, Correlação e dispersão\n",
    "        Gráfico de cooerdenadas paralelas - Relacionamento entre muitas variáveis, posicionamento e volume + variedade\n",
    "        Gráfico de radar - Comparação entre objetos de grande dimensionalidade\n",
    "        Mapa de árvore - visão geral de dados hierárquicos\n",
    "        Mapa Coroplético, calor e densidade - Informações geolozalizadas (utilizar valores normalizados, ex: população por km2)\n",
    "        Séries temporais - Informações ao logo do tempo\n",
    "\n",
    "    Planejamento da visualização de dados  \n",
    "        Caracterizar o problema / Qual a necessidade e público alvo? \n",
    "        O que apresentar? qual a finalidade? Qual é o foco?\n",
    "        Como apresentar?\n",
    "        Testar eficiência da visualização\n",
    "\n",
    "    Principais Elementos do Storytelling:\n",
    "        Dados / Narrativa / Recursos Visuais\n",
    "        Público / Foco na Aproximação / Visualização eficaz\n",
    "\n",
    "    Componentes de um gráfico\n",
    "        Eixos (nome, marcação e escala)\n",
    "        Título\n",
    "        Dados de origem\n",
    "        Legendas\n",
    "        Área de fundo\n",
    "\n",
    "    Cores\n",
    "        Basear-se no uso do circulo cromatico para seleção de cores(cores opostas, adjacentes e triades)\n",
    "        ferramentas de cores:\n",
    "            adobe color / coloerBrewer / collorzilla\n",
    "\n",
    "    Recursos para visualizaçao de dados:\n",
    "                matplotlib - plotagem estatica\n",
    "                seaborn - plotagem estatica\n",
    "                plotly - visualização interativa, exporta para html\n",
    "                folium + geopandas - mapas estáticos e interativos\n",
    "                cubu - cuda + bundling para agrupamento de linhas e representação de fluxo\n",
    "\n",
    "\n",
    "    consultar\n",
    "\n",
    "    https://datavizproject.com/\n",
    "</p>"
   ]
  },
  {
   "attachments": {},
   "cell_type": "markdown",
   "id": "8436b7a2",
   "metadata": {},
   "source": [
    "## Deploy"
   ]
  },
  {
   "attachments": {},
   "cell_type": "markdown",
   "id": "1f450942",
   "metadata": {},
   "source": [
    "<p>\n",
    "\n",
    "    serializar o codigo\n",
    "    \n",
    "    usar container\n",
    "    \n",
    "    criar api\n",
    "    \n",
    "    chatbot telegram e whatsapp\n",
    "    \n",
    "    aplicacoes web para visualização, streamlit e dash + flask\n",
    "    \n",
    "    powerbi / tableau\n",
    "</p>"
   ]
  },
  {
   "attachments": {},
   "cell_type": "markdown",
   "id": "e19e3533",
   "metadata": {},
   "source": [
    "## Storytelling"
   ]
  }
 ],
 "metadata": {
  "kernelspec": {
   "display_name": "env_ds",
   "language": "python",
   "name": "python3"
  },
  "language_info": {
   "codemirror_mode": {
    "name": "ipython",
    "version": 3
   },
   "file_extension": ".py",
   "mimetype": "text/x-python",
   "name": "python",
   "nbconvert_exporter": "python",
   "pygments_lexer": "ipython3",
   "version": "3.10.8"
  },
  "vscode": {
   "interpreter": {
    "hash": "9b1c904fc8d11b9f604137630e50605c588c62fd2d312adc1cc5c0a7c8dab974"
   }
  }
 },
 "nbformat": 4,
 "nbformat_minor": 5
}
