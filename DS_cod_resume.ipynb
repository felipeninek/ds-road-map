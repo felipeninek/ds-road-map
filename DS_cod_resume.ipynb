{
 "cells": [
  {
   "attachments": {},
   "cell_type": "markdown",
   "id": "41d7f37b",
   "metadata": {},
   "source": [
    "## Imports"
   ]
  },
  {
   "cell_type": "code",
   "execution_count": 6,
   "id": "2c76a958",
   "metadata": {},
   "outputs": [],
   "source": [
    "import pandas as pd\n",
    "import numpy as np\n",
    "import matplotlib.pyplot as plt\n",
    "import seaborn as sns\n",
    "import requests\n",
    "from bs4 import BeautifulSoup\n",
    "import sweetviz\n",
    "import csv\n",
    "import json\n",
    "\n",
    "from sklearn.preprocessing import LabelEncoder\n",
    "from sklearn.neighbors import  KNeighborsClassifier\n",
    "from sklearn.neighbors import KNeighborsRegressor\n",
    "from sklearn.metrics import mean_absolute_error\n",
    "from sklearn.model_selection import train_test_split\n",
    "from sklearn.tree import DecisionTreeRegressor \n",
    "from sklearn.ensemble import RandomForestRegressor\n",
    "\n",
    "df = pd.DataFrame({'col1':['a', 'b','c','d','e','f'], 'col2':[10, 20, 30, 40, 50, 60], 'col3':[45.9, None, 16.9, 46.6, 21.4, 17.3]})"
   ]
  },
  {
   "attachments": {},
   "cell_type": "markdown",
   "id": "032b7570",
   "metadata": {},
   "source": [
    "## Coleta de dados"
   ]
  },
  {
   "cell_type": "code",
   "execution_count": null,
   "id": "20fa691f",
   "metadata": {},
   "outputs": [],
   "source": [
    "# Coleta de dados html/xml com BS4\n",
    "#url = 'https://www.python.org/about/'\n",
    "#content = requests.get(url)\n",
    "#soup = BeautifulSoup(content.text, 'html.parser')\n",
    "#p = soup.find('p')\n",
    "\n",
    "\n",
    "# Manipulação de documentos texto open/with (métodos write/read)\n",
    "#file = open('file.txt', 'r')\n",
    "#content = file.readlines()\n",
    "#file.close()\n",
    "\n",
    "#new_file = open('new_file.txt', 'w')\n",
    "#new_file.writelines(x)\n",
    "#new_file.close()\n",
    "\n",
    "\n",
    "# Coletar/Salvar dados com Pandas\n",
    "#df = pd.read_csv('file.csv', sep=';', encoding='utf-8')\n",
    "#df.to_csv('df.csv', sep=';', encoding='utf-8', index=False)\n",
    "\n",
    "\n",
    "# Consumir dados de api JSON\n",
    "#req = requests.get('https://abcd.me/api')\n",
    "#df = json.loads(req)"
   ]
  },
  {
   "attachments": {},
   "cell_type": "markdown",
   "id": "d28a8ab1",
   "metadata": {},
   "source": [
    "## Pré-processamento"
   ]
  },
  {
   "cell_type": "code",
   "execution_count": null,
   "id": "eb8f9619",
   "metadata": {},
   "outputs": [],
   "source": [
    "# Comandos básicos para manipulação de dados\n",
    "#df.isnull().sum()\n",
    "#df.head() / df.sample() / df.tail()\n",
    "#df.info() / df.describe() / \n",
    "#Colunas: df.drop('col1', axis=1, inplace=True) / Linhas: df.drop([0,1])\n",
    "#df = df['col2'].astype('float64') / *lista = np.array(lista)\n",
    "#df = np.arange(15).reshape((3,5)) / df = df.T\n",
    "#df['col1'].unique()\n",
    "#df.dropna(subset=['col3'], inplace=True)\n",
    "#df['col3'].fillna(value='13.0', inplace=True)\n",
    "#df['col3'].fillna(value=df['col3'].mean(), inplace=True)\n",
    "#df.duplicated()\n",
    "#df.drop_duplicates(subset=['col1'], inplace=True)\n",
    "#df['col2'] = df['col2'].replace(20, 25)\n",
    "#df['col1'].value_counts()"
   ]
  },
  {
   "cell_type": "code",
   "execution_count": null,
   "id": "3ee0e12a",
   "metadata": {},
   "outputs": [],
   "source": [
    "# Transformação\n",
    "#lencoder = LabelEncoder()\n",
    "#df['col1'] = lencoder.fit_transform(df['col1'])"
   ]
  },
  {
   "attachments": {},
   "cell_type": "markdown",
   "id": "bd9c929f",
   "metadata": {},
   "source": [
    "## EDA"
   ]
  },
  {
   "cell_type": "code",
   "execution_count": null,
   "id": "8838364f",
   "metadata": {},
   "outputs": [],
   "source": [
    "# Gráficos matplotlib\n",
    "#plt.figure(figsize=(10, 8))\n",
    "#plt.scatter(col2, col3, color = 'green', marker = '*', label=f'Correlação = {np.round(np.corrcoef(col2,col3)[0,1], 2)}')\n",
    "#plt.scatter(x, y, color = \"m\",  marker = \"o\", s = 30)\n",
    "#plt.bar(df['col1'], df['col2'])\n",
    "#plt.plot(df['col1'], df['col3'], color='red')\n",
    "#plt.xlabel('col1')\n",
    "#plt.ylabel('col2')\n",
    "#plt.title('Gráfico de dispersão: col2 vs. col3')\n",
    "#plt.legend(loc='best')\n",
    "#plt.grid(True)\n",
    "#plt.show();\n",
    "\n",
    "\n",
    "# Gráficos seaborn\n",
    "#sns.barplot(data=df, x='col1', y='col2', color='red')\n",
    "#sns.lineplot(data=df, x='col1', y='col2', color='blue')\n",
    "#sns.jointplot(x=df['col2'], y=df['col3']);\n",
    "#sns.lmplot(x='col2', y='col3',hue='col1', data=df);\n",
    "\n",
    "\n",
    "# Heat map\n",
    "#mask = np.triu(np.ones_like(df.corr(), dtype=np.bool))\n",
    "#plt.figure(figsize=(20,20))\n",
    "#sns.heatmap(df.corr(), mask=mask, square=True, annot=True, vmin=-1, vmax=1)\n",
    "#plt.show();\n",
    "\n",
    "\n",
    "# Sweetviz - EDA\n",
    "#eda = sweetviz.analyze(df)\n",
    "#eda.show_html()"
   ]
  },
  {
   "attachments": {},
   "cell_type": "markdown",
   "id": "e0e998d3",
   "metadata": {},
   "source": [
    "## Data Mining"
   ]
  },
  {
   "cell_type": "code",
   "execution_count": null,
   "id": "b15cc946",
   "metadata": {},
   "outputs": [],
   "source": [
    "# Machine Leraning\n",
    "#x = df[['col2', 'col3']].values\n",
    "#y = df['col1'].values\n",
    "\n",
    "#model = KNeighborsClassifier(3)\n",
    "#model.fit(x, y)\n",
    "#y_hat = model.predict(x)\n",
    "\n",
    "#model = KNeighborsRegressor(3)\n",
    "#model.fit(x, y)\n",
    "#y_hat = model.predict(x)\n",
    "\n",
    "#model = RandomForestRegressor(random_state=1, n_jobs=-1, n_estimators=30)\n",
    "#model.fit(x, y)\n",
    "#y_hat = model.predict(x)\n",
    "\n",
    "#model = DecisionTreeRegressor(random_state=1, max_depth=8)\n",
    "#model.fit(x, y)\n",
    "#y_hat = model.predict(x)\n",
    "\n",
    "\n",
    "# Avaliação do modelo\n",
    "#model.score(x, y)\n",
    "#mean_absolute_error(y, y_hat)\n",
    "\n",
    "\n",
    "# Treino e teste\n",
    "#train_x, test_x, train_y, test_y = train_test_split(x, y, random_state=1, train_size=0.8)\n",
    "#model = KNeighborsClassifier(3)\n",
    "#model.fit(train_x, train_y)\n",
    "#y_hat = model.predict(test_x)\n",
    "#mean_absolute_error(test_y, y_hat)\n"
   ]
  },
  {
   "attachments": {},
   "cell_type": "markdown",
   "id": "84cb7787",
   "metadata": {},
   "source": [
    "## Avaliação"
   ]
  },
  {
   "attachments": {},
   "cell_type": "markdown",
   "id": "ba860d61",
   "metadata": {},
   "source": [
    "## Visualização"
   ]
  },
  {
   "attachments": {},
   "cell_type": "markdown",
   "id": "00bde7cc",
   "metadata": {},
   "source": [
    "## Deploy"
   ]
  },
  {
   "attachments": {},
   "cell_type": "markdown",
   "id": "84788ef9",
   "metadata": {},
   "source": [
    "## Storytelling"
   ]
  },
  {
   "cell_type": "code",
   "execution_count": null,
   "id": "46806401",
   "metadata": {},
   "outputs": [],
   "source": [
    "#usando numpy\n",
    "y = c2\n",
    "#definir a vriável preditora\n",
    "x = c1\n",
    "z = np.polyfit(x,y,2)\n",
    "print(z)\n",
    "#print('y= {0} {1}x'.format(z[1],z[0]))\n",
    "\n"
   ]
  }
 ],
 "metadata": {
  "kernelspec": {
   "display_name": "env_ds",
   "language": "python",
   "name": "python3"
  },
  "language_info": {
   "codemirror_mode": {
    "name": "ipython",
    "version": 3
   },
   "file_extension": ".py",
   "mimetype": "text/x-python",
   "name": "python",
   "nbconvert_exporter": "python",
   "pygments_lexer": "ipython3",
   "version": "3.10.8"
  },
  "vscode": {
   "interpreter": {
    "hash": "9b1c904fc8d11b9f604137630e50605c588c62fd2d312adc1cc5c0a7c8dab974"
   }
  }
 },
 "nbformat": 4,
 "nbformat_minor": 5
}
